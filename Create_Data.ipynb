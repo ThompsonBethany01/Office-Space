{
 "cells": [
  {
   "cell_type": "markdown",
   "metadata": {},
   "source": [
    "# Creating Bank Data\n",
    "> These are the steps taken to create data to mimic a bank. The final function created will be contained in a Data.py module. This notebook is not required to complete this challenge. However, if you make changes to the function, I suggest running any changes in this notebook  or another first before altering the Data.py module.  \n",
    "\n",
    "Our data will contain:\n",
    "- a unique transaction id\n",
    "- randomly chosen:\n",
    "    - account total in dollars (balance)\n",
    "    - interest rate\n",
    "- calculated interest \n",
    "    - (balance * interest rate)\n",
    "- new total of total + interest \n",
    "    - (balance + calculated interest)\n",
    "- 100,000 observations\n",
    "\n",
    "### Feel free to tweak the data with your own specifications on interest, observations, etc."
   ]
  },
  {
   "cell_type": "code",
   "execution_count": 1,
   "metadata": {},
   "outputs": [],
   "source": [
    "# to create random values\n",
    "import numpy as np\n",
    "\n",
    "# to create a dataframe, calculations, etc.\n",
    "import pandas as pd"
   ]
  },
  {
   "cell_type": "code",
   "execution_count": 43,
   "metadata": {},
   "outputs": [],
   "source": [
    "# set the number of observations for random values as 100,000 transactions\n",
    "observations = 100_000"
   ]
  },
  {
   "cell_type": "markdown",
   "metadata": {},
   "source": [
    "# Account Balances\n",
    "- creating random values for total balance in bank account for the transaction\n",
    "- np.random.normal draws random samples from a normal distribution\n",
    "    - np.random.normal(mean, stddev, size)\n",
    "- the average american today has $8,863 in their bank account\n",
    "    - https://www.cnbc.com/2019/03/11/how-much-money-americans-have-in-their-savings-accounts-at-every-age.html"
   ]
  },
  {
   "cell_type": "code",
   "execution_count": 106,
   "metadata": {},
   "outputs": [
    {
     "data": {
      "text/plain": [
       "1463.25805072399"
      ]
     },
     "execution_count": 106,
     "metadata": {},
     "output_type": "execute_result"
    }
   ],
   "source": [
    "totals = np.random.normal(8_000, 1_500, observations)\n",
    "totals.min()"
   ]
  },
  {
   "cell_type": "markdown",
   "metadata": {},
   "source": [
    "# Interest Rates\n",
    "- creating random decimal values for interest rates of each transaction\n",
    "- np.random.random draws random samples from the interval [0.0, 1.0)\n",
    "    - range does not include 0, includes 1\n",
    "    - np.random.random(size)\n",
    "- banks have an average interest rate of .06% on checkings accounts\n",
    "    - https://www.valuepenguin.com/banking/average-bank-interest-rates#:~:text=The%20average%20bank%20interest%20rate,market%20interest%20rate%20is%200.16%25."
   ]
  },
  {
   "cell_type": "code",
   "execution_count": 133,
   "metadata": {},
   "outputs": [
    {
     "data": {
      "text/plain": [
       "array([0.01582813, 0.07602612, 0.03427196, ..., 0.09894789, 0.08258765,\n",
       "       0.02603719])"
      ]
     },
     "execution_count": 133,
     "metadata": {},
     "output_type": "execute_result"
    }
   ],
   "source": [
    "interest = np.random.random(observations) * .1\n",
    "interest"
   ]
  },
  {
   "cell_type": "markdown",
   "metadata": {},
   "source": [
    "# Creating the df\n",
    "- the transaction id will be the df index\n",
    "- we created random balances and interest, these will be added to the df\n",
    "- next, we'll calculate the interest and new total\n",
    "- finally, we will put it all together into a repeatable function"
   ]
  },
  {
   "cell_type": "code",
   "execution_count": 126,
   "metadata": {},
   "outputs": [],
   "source": [
    "# creating an empty df with an index starting at. and ending at 1,000\n",
    "df = pd.DataFrame(index=range(1,1001))"
   ]
  },
  {
   "cell_type": "code",
   "execution_count": 127,
   "metadata": {},
   "outputs": [],
   "source": [
    "# creating a column in the df as the account balance using random array created earlier\n",
    "df['balance'] = pd.DataFrame(totals)"
   ]
  },
  {
   "cell_type": "code",
   "execution_count": 128,
   "metadata": {},
   "outputs": [],
   "source": [
    "# creating a column in the df as the interest rate using random array created earlier\n",
    "df['interest_rate'] = pd.DataFrame(interest)"
   ]
  },
  {
   "cell_type": "code",
   "execution_count": 129,
   "metadata": {},
   "outputs": [
    {
     "data": {
      "text/html": [
       "<div>\n",
       "<style scoped>\n",
       "    .dataframe tbody tr th:only-of-type {\n",
       "        vertical-align: middle;\n",
       "    }\n",
       "\n",
       "    .dataframe tbody tr th {\n",
       "        vertical-align: top;\n",
       "    }\n",
       "\n",
       "    .dataframe thead th {\n",
       "        text-align: right;\n",
       "    }\n",
       "</style>\n",
       "<table border=\"1\" class=\"dataframe\">\n",
       "  <thead>\n",
       "    <tr style=\"text-align: right;\">\n",
       "      <th></th>\n",
       "      <th>balances</th>\n",
       "      <th>interest_rate</th>\n",
       "    </tr>\n",
       "  </thead>\n",
       "  <tbody>\n",
       "    <tr>\n",
       "      <th>1</th>\n",
       "      <td>6824.016840</td>\n",
       "      <td>0.022580</td>\n",
       "    </tr>\n",
       "    <tr>\n",
       "      <th>2</th>\n",
       "      <td>7422.930463</td>\n",
       "      <td>0.056376</td>\n",
       "    </tr>\n",
       "    <tr>\n",
       "      <th>3</th>\n",
       "      <td>9414.588795</td>\n",
       "      <td>0.043811</td>\n",
       "    </tr>\n",
       "    <tr>\n",
       "      <th>4</th>\n",
       "      <td>7175.198852</td>\n",
       "      <td>0.001633</td>\n",
       "    </tr>\n",
       "    <tr>\n",
       "      <th>5</th>\n",
       "      <td>6741.519427</td>\n",
       "      <td>0.043785</td>\n",
       "    </tr>\n",
       "    <tr>\n",
       "      <th>...</th>\n",
       "      <td>...</td>\n",
       "      <td>...</td>\n",
       "    </tr>\n",
       "    <tr>\n",
       "      <th>996</th>\n",
       "      <td>6754.250045</td>\n",
       "      <td>0.069544</td>\n",
       "    </tr>\n",
       "    <tr>\n",
       "      <th>997</th>\n",
       "      <td>7426.375854</td>\n",
       "      <td>0.010807</td>\n",
       "    </tr>\n",
       "    <tr>\n",
       "      <th>998</th>\n",
       "      <td>5993.262779</td>\n",
       "      <td>0.039739</td>\n",
       "    </tr>\n",
       "    <tr>\n",
       "      <th>999</th>\n",
       "      <td>9011.671929</td>\n",
       "      <td>0.037660</td>\n",
       "    </tr>\n",
       "    <tr>\n",
       "      <th>1000</th>\n",
       "      <td>8119.058344</td>\n",
       "      <td>0.029242</td>\n",
       "    </tr>\n",
       "  </tbody>\n",
       "</table>\n",
       "<p>1000 rows × 2 columns</p>\n",
       "</div>"
      ],
      "text/plain": [
       "         balances  interest_rate\n",
       "1     6824.016840       0.022580\n",
       "2     7422.930463       0.056376\n",
       "3     9414.588795       0.043811\n",
       "4     7175.198852       0.001633\n",
       "5     6741.519427       0.043785\n",
       "...           ...            ...\n",
       "996   6754.250045       0.069544\n",
       "997   7426.375854       0.010807\n",
       "998   5993.262779       0.039739\n",
       "999   9011.671929       0.037660\n",
       "1000  8119.058344       0.029242\n",
       "\n",
       "[1000 rows x 2 columns]"
      ]
     },
     "execution_count": 129,
     "metadata": {},
     "output_type": "execute_result"
    }
   ],
   "source": [
    "# taking a look at the df so far\n",
    "df"
   ]
  },
  {
   "cell_type": "code",
   "execution_count": 130,
   "metadata": {},
   "outputs": [],
   "source": [
    "# creating a new column by calculating the interest with our existing columns\n",
    "# the amount of interest earned is the account balance times the interest rate\n",
    "df['calculated_interest'] = df.balance * df.interest_rate"
   ]
  },
  {
   "cell_type": "code",
   "execution_count": 131,
   "metadata": {},
   "outputs": [],
   "source": [
    "# creating a new column by calculating the total with our existing columns\n",
    "# the new total is the account balance plus the interest earned\n",
    "df['new_balance'] = df.balance + df.calculated_interest"
   ]
  },
  {
   "cell_type": "code",
   "execution_count": 132,
   "metadata": {},
   "outputs": [
    {
     "data": {
      "text/html": [
       "<div>\n",
       "<style scoped>\n",
       "    .dataframe tbody tr th:only-of-type {\n",
       "        vertical-align: middle;\n",
       "    }\n",
       "\n",
       "    .dataframe tbody tr th {\n",
       "        vertical-align: top;\n",
       "    }\n",
       "\n",
       "    .dataframe thead th {\n",
       "        text-align: right;\n",
       "    }\n",
       "</style>\n",
       "<table border=\"1\" class=\"dataframe\">\n",
       "  <thead>\n",
       "    <tr style=\"text-align: right;\">\n",
       "      <th></th>\n",
       "      <th>balances</th>\n",
       "      <th>interest_rate</th>\n",
       "      <th>calculated_interest</th>\n",
       "      <th>new_balance</th>\n",
       "    </tr>\n",
       "  </thead>\n",
       "  <tbody>\n",
       "    <tr>\n",
       "      <th>1</th>\n",
       "      <td>6824.016840</td>\n",
       "      <td>0.022580</td>\n",
       "      <td>154.083813</td>\n",
       "      <td>6978.100654</td>\n",
       "    </tr>\n",
       "    <tr>\n",
       "      <th>2</th>\n",
       "      <td>7422.930463</td>\n",
       "      <td>0.056376</td>\n",
       "      <td>418.476177</td>\n",
       "      <td>7841.406640</td>\n",
       "    </tr>\n",
       "    <tr>\n",
       "      <th>3</th>\n",
       "      <td>9414.588795</td>\n",
       "      <td>0.043811</td>\n",
       "      <td>412.461519</td>\n",
       "      <td>9827.050314</td>\n",
       "    </tr>\n",
       "    <tr>\n",
       "      <th>4</th>\n",
       "      <td>7175.198852</td>\n",
       "      <td>0.001633</td>\n",
       "      <td>11.719498</td>\n",
       "      <td>7186.918350</td>\n",
       "    </tr>\n",
       "    <tr>\n",
       "      <th>5</th>\n",
       "      <td>6741.519427</td>\n",
       "      <td>0.043785</td>\n",
       "      <td>295.178718</td>\n",
       "      <td>7036.698145</td>\n",
       "    </tr>\n",
       "    <tr>\n",
       "      <th>...</th>\n",
       "      <td>...</td>\n",
       "      <td>...</td>\n",
       "      <td>...</td>\n",
       "      <td>...</td>\n",
       "    </tr>\n",
       "    <tr>\n",
       "      <th>996</th>\n",
       "      <td>6754.250045</td>\n",
       "      <td>0.069544</td>\n",
       "      <td>469.715928</td>\n",
       "      <td>7223.965973</td>\n",
       "    </tr>\n",
       "    <tr>\n",
       "      <th>997</th>\n",
       "      <td>7426.375854</td>\n",
       "      <td>0.010807</td>\n",
       "      <td>80.259155</td>\n",
       "      <td>7506.635009</td>\n",
       "    </tr>\n",
       "    <tr>\n",
       "      <th>998</th>\n",
       "      <td>5993.262779</td>\n",
       "      <td>0.039739</td>\n",
       "      <td>238.166970</td>\n",
       "      <td>6231.429749</td>\n",
       "    </tr>\n",
       "    <tr>\n",
       "      <th>999</th>\n",
       "      <td>9011.671929</td>\n",
       "      <td>0.037660</td>\n",
       "      <td>339.380441</td>\n",
       "      <td>9351.052370</td>\n",
       "    </tr>\n",
       "    <tr>\n",
       "      <th>1000</th>\n",
       "      <td>8119.058344</td>\n",
       "      <td>0.029242</td>\n",
       "      <td>237.413830</td>\n",
       "      <td>8356.472174</td>\n",
       "    </tr>\n",
       "  </tbody>\n",
       "</table>\n",
       "<p>1000 rows × 4 columns</p>\n",
       "</div>"
      ],
      "text/plain": [
       "         balances  interest_rate  calculated_interest  new_balance\n",
       "1     6824.016840       0.022580           154.083813  6978.100654\n",
       "2     7422.930463       0.056376           418.476177  7841.406640\n",
       "3     9414.588795       0.043811           412.461519  9827.050314\n",
       "4     7175.198852       0.001633            11.719498  7186.918350\n",
       "5     6741.519427       0.043785           295.178718  7036.698145\n",
       "...           ...            ...                  ...          ...\n",
       "996   6754.250045       0.069544           469.715928  7223.965973\n",
       "997   7426.375854       0.010807            80.259155  7506.635009\n",
       "998   5993.262779       0.039739           238.166970  6231.429749\n",
       "999   9011.671929       0.037660           339.380441  9351.052370\n",
       "1000  8119.058344       0.029242           237.413830  8356.472174\n",
       "\n",
       "[1000 rows x 4 columns]"
      ]
     },
     "execution_count": 132,
     "metadata": {},
     "output_type": "execute_result"
    }
   ],
   "source": [
    "# taking a look at the complete df\n",
    "df"
   ]
  },
  {
   "cell_type": "markdown",
   "metadata": {},
   "source": [
    "# Now, Put it All Together in a Function"
   ]
  },
  {
   "cell_type": "code",
   "execution_count": 134,
   "metadata": {},
   "outputs": [],
   "source": [
    "def create_data():\n",
    "    '''\n",
    "    Creates a df of fake bank transactions.\n",
    "    Includes the account total, interest rate, earned interest, and total after interest.\n",
    "    Generates different random values each time function is run.\n",
    "    '''\n",
    "    # set the number of observations for random values as 100,000 transactions\n",
    "    observations = 100_000\n",
    "    \n",
    "    # random floats generated with average of 8,000 and stddev of 1,500\n",
    "    totals = np.random.normal(8_000, 1_500, observations)\n",
    "    \n",
    "    # random floats generated from [0, 1.0)\n",
    "    # multiply by .1 to mimick average interest rates, typically .06\n",
    "    interest = np.random.random(observations) * .1\n",
    "    \n",
    "    # creating an empty df with an index starting at. and ending at 1,000\n",
    "    df = pd.DataFrame(index=range(1,1001))\n",
    "    \n",
    "    # creating a column in the df as the account balance using random array created earlier\n",
    "    df['balances'] = pd.DataFrame(totals)\n",
    "    \n",
    "    # creating a column in the df as the interest rate using random array created earlier\n",
    "    df['interest_rate'] = pd.DataFrame(interest)\n",
    "    \n",
    "    # creating a new column by calculating the interest with our existing columns\n",
    "    # the amount of interest earned is the account balance times the interest rate\n",
    "    df['calculated_interest'] = df.balance * df.interest_rate\n",
    "    \n",
    "    # creating a new column by calculating the total with our existing columns\n",
    "    # the new total is the account balance plus the interest earned\n",
    "    df['new_balance'] = df.balance + df.calculated_interest\n",
    "    \n",
    "    return df"
   ]
  },
  {
   "cell_type": "markdown",
   "metadata": {},
   "source": [
    "# Testing the function created"
   ]
  },
  {
   "cell_type": "code",
   "execution_count": 135,
   "metadata": {},
   "outputs": [
    {
     "data": {
      "text/html": [
       "<div>\n",
       "<style scoped>\n",
       "    .dataframe tbody tr th:only-of-type {\n",
       "        vertical-align: middle;\n",
       "    }\n",
       "\n",
       "    .dataframe tbody tr th {\n",
       "        vertical-align: top;\n",
       "    }\n",
       "\n",
       "    .dataframe thead th {\n",
       "        text-align: right;\n",
       "    }\n",
       "</style>\n",
       "<table border=\"1\" class=\"dataframe\">\n",
       "  <thead>\n",
       "    <tr style=\"text-align: right;\">\n",
       "      <th></th>\n",
       "      <th>balances</th>\n",
       "      <th>interest_rate</th>\n",
       "      <th>calculated_interest</th>\n",
       "      <th>new_balance</th>\n",
       "    </tr>\n",
       "  </thead>\n",
       "  <tbody>\n",
       "    <tr>\n",
       "      <th>1</th>\n",
       "      <td>8918.544688</td>\n",
       "      <td>0.016401</td>\n",
       "      <td>146.273274</td>\n",
       "      <td>9064.817961</td>\n",
       "    </tr>\n",
       "    <tr>\n",
       "      <th>2</th>\n",
       "      <td>7692.612869</td>\n",
       "      <td>0.092795</td>\n",
       "      <td>713.835824</td>\n",
       "      <td>8406.448693</td>\n",
       "    </tr>\n",
       "    <tr>\n",
       "      <th>3</th>\n",
       "      <td>7024.140237</td>\n",
       "      <td>0.070404</td>\n",
       "      <td>494.525912</td>\n",
       "      <td>7518.666149</td>\n",
       "    </tr>\n",
       "    <tr>\n",
       "      <th>4</th>\n",
       "      <td>8442.240542</td>\n",
       "      <td>0.015295</td>\n",
       "      <td>129.126693</td>\n",
       "      <td>8571.367235</td>\n",
       "    </tr>\n",
       "    <tr>\n",
       "      <th>5</th>\n",
       "      <td>8989.550043</td>\n",
       "      <td>0.018346</td>\n",
       "      <td>164.921703</td>\n",
       "      <td>9154.471747</td>\n",
       "    </tr>\n",
       "    <tr>\n",
       "      <th>...</th>\n",
       "      <td>...</td>\n",
       "      <td>...</td>\n",
       "      <td>...</td>\n",
       "      <td>...</td>\n",
       "    </tr>\n",
       "    <tr>\n",
       "      <th>996</th>\n",
       "      <td>7722.487787</td>\n",
       "      <td>0.006990</td>\n",
       "      <td>53.983635</td>\n",
       "      <td>7776.471422</td>\n",
       "    </tr>\n",
       "    <tr>\n",
       "      <th>997</th>\n",
       "      <td>6700.474357</td>\n",
       "      <td>0.050216</td>\n",
       "      <td>336.468273</td>\n",
       "      <td>7036.942630</td>\n",
       "    </tr>\n",
       "    <tr>\n",
       "      <th>998</th>\n",
       "      <td>7673.842980</td>\n",
       "      <td>0.088342</td>\n",
       "      <td>677.921952</td>\n",
       "      <td>8351.764932</td>\n",
       "    </tr>\n",
       "    <tr>\n",
       "      <th>999</th>\n",
       "      <td>6476.623124</td>\n",
       "      <td>0.041125</td>\n",
       "      <td>266.348838</td>\n",
       "      <td>6742.971963</td>\n",
       "    </tr>\n",
       "    <tr>\n",
       "      <th>1000</th>\n",
       "      <td>8583.782442</td>\n",
       "      <td>0.032326</td>\n",
       "      <td>277.482118</td>\n",
       "      <td>8861.264560</td>\n",
       "    </tr>\n",
       "  </tbody>\n",
       "</table>\n",
       "<p>1000 rows × 4 columns</p>\n",
       "</div>"
      ],
      "text/plain": [
       "         balances  interest_rate  calculated_interest  new_balance\n",
       "1     8918.544688       0.016401           146.273274  9064.817961\n",
       "2     7692.612869       0.092795           713.835824  8406.448693\n",
       "3     7024.140237       0.070404           494.525912  7518.666149\n",
       "4     8442.240542       0.015295           129.126693  8571.367235\n",
       "5     8989.550043       0.018346           164.921703  9154.471747\n",
       "...           ...            ...                  ...          ...\n",
       "996   7722.487787       0.006990            53.983635  7776.471422\n",
       "997   6700.474357       0.050216           336.468273  7036.942630\n",
       "998   7673.842980       0.088342           677.921952  8351.764932\n",
       "999   6476.623124       0.041125           266.348838  6742.971963\n",
       "1000  8583.782442       0.032326           277.482118  8861.264560\n",
       "\n",
       "[1000 rows x 4 columns]"
      ]
     },
     "execution_count": 135,
     "metadata": {},
     "output_type": "execute_result"
    }
   ],
   "source": [
    "df_function = create_data()\n",
    "df_function"
   ]
  },
  {
   "cell_type": "markdown",
   "metadata": {},
   "source": [
    "# ^Looking Good!"
   ]
  }
 ],
 "metadata": {
  "kernelspec": {
   "display_name": "Python 3",
   "language": "python",
   "name": "python3"
  },
  "language_info": {
   "codemirror_mode": {
    "name": "ipython",
    "version": 3
   },
   "file_extension": ".py",
   "mimetype": "text/x-python",
   "name": "python",
   "nbconvert_exporter": "python",
   "pygments_lexer": "ipython3",
   "version": "3.7.6"
  }
 },
 "nbformat": 4,
 "nbformat_minor": 4
}
