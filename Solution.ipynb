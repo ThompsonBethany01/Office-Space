{
 "cells": [
  {
   "cell_type": "markdown",
   "metadata": {},
   "source": [
    "# Creating the function\n",
    "- Before I can create the \"virus\" from the movie, I need to create the version without bugs\n",
    "- This notebook will walkthrough the process of my idea of what the function would be (with my admitably limited domain knowledge)"
   ]
  },
  {
   "cell_type": "code",
   "execution_count": 1,
   "metadata": {},
   "outputs": [],
   "source": [
    "# import the function that creates the fank bank data\n",
    "import Data\n",
    "import math"
   ]
  },
  {
   "cell_type": "code",
   "execution_count": 5,
   "metadata": {},
   "outputs": [],
   "source": [
    "# using the function and assigning it to a variable\n",
    "df = Data.create_data(100_000)"
   ]
  },
  {
   "cell_type": "code",
   "execution_count": 6,
   "metadata": {},
   "outputs": [
    {
     "data": {
      "text/html": [
       "<div>\n",
       "<style scoped>\n",
       "    .dataframe tbody tr th:only-of-type {\n",
       "        vertical-align: middle;\n",
       "    }\n",
       "\n",
       "    .dataframe tbody tr th {\n",
       "        vertical-align: top;\n",
       "    }\n",
       "\n",
       "    .dataframe thead th {\n",
       "        text-align: right;\n",
       "    }\n",
       "</style>\n",
       "<table border=\"1\" class=\"dataframe\">\n",
       "  <thead>\n",
       "    <tr style=\"text-align: right;\">\n",
       "      <th></th>\n",
       "      <th>balance</th>\n",
       "      <th>interest_rate</th>\n",
       "      <th>calculated_interest</th>\n",
       "      <th>new_balance</th>\n",
       "    </tr>\n",
       "  </thead>\n",
       "  <tbody>\n",
       "    <tr>\n",
       "      <th>1</th>\n",
       "      <td>8281.851888</td>\n",
       "      <td>0.085808</td>\n",
       "      <td>710.649401</td>\n",
       "      <td>8992.501289</td>\n",
       "    </tr>\n",
       "    <tr>\n",
       "      <th>2</th>\n",
       "      <td>9706.411698</td>\n",
       "      <td>0.059784</td>\n",
       "      <td>580.288344</td>\n",
       "      <td>10286.700042</td>\n",
       "    </tr>\n",
       "    <tr>\n",
       "      <th>3</th>\n",
       "      <td>4751.818992</td>\n",
       "      <td>0.042839</td>\n",
       "      <td>203.562105</td>\n",
       "      <td>4955.381097</td>\n",
       "    </tr>\n",
       "    <tr>\n",
       "      <th>4</th>\n",
       "      <td>6295.583004</td>\n",
       "      <td>0.025765</td>\n",
       "      <td>162.205870</td>\n",
       "      <td>6457.788874</td>\n",
       "    </tr>\n",
       "    <tr>\n",
       "      <th>5</th>\n",
       "      <td>7650.577030</td>\n",
       "      <td>0.095741</td>\n",
       "      <td>732.474028</td>\n",
       "      <td>8383.051058</td>\n",
       "    </tr>\n",
       "    <tr>\n",
       "      <th>...</th>\n",
       "      <td>...</td>\n",
       "      <td>...</td>\n",
       "      <td>...</td>\n",
       "      <td>...</td>\n",
       "    </tr>\n",
       "    <tr>\n",
       "      <th>99996</th>\n",
       "      <td>8802.666712</td>\n",
       "      <td>0.091839</td>\n",
       "      <td>808.427200</td>\n",
       "      <td>9611.093912</td>\n",
       "    </tr>\n",
       "    <tr>\n",
       "      <th>99997</th>\n",
       "      <td>7417.093518</td>\n",
       "      <td>0.033612</td>\n",
       "      <td>249.305180</td>\n",
       "      <td>7666.398698</td>\n",
       "    </tr>\n",
       "    <tr>\n",
       "      <th>99998</th>\n",
       "      <td>7946.326587</td>\n",
       "      <td>0.091194</td>\n",
       "      <td>724.654843</td>\n",
       "      <td>8670.981430</td>\n",
       "    </tr>\n",
       "    <tr>\n",
       "      <th>99999</th>\n",
       "      <td>7813.078963</td>\n",
       "      <td>0.055935</td>\n",
       "      <td>437.023995</td>\n",
       "      <td>8250.102958</td>\n",
       "    </tr>\n",
       "    <tr>\n",
       "      <th>100000</th>\n",
       "      <td>8136.255989</td>\n",
       "      <td>0.091500</td>\n",
       "      <td>744.464739</td>\n",
       "      <td>8880.720728</td>\n",
       "    </tr>\n",
       "  </tbody>\n",
       "</table>\n",
       "<p>100000 rows × 4 columns</p>\n",
       "</div>"
      ],
      "text/plain": [
       "            balance  interest_rate  calculated_interest   new_balance\n",
       "1       8281.851888       0.085808           710.649401   8992.501289\n",
       "2       9706.411698       0.059784           580.288344  10286.700042\n",
       "3       4751.818992       0.042839           203.562105   4955.381097\n",
       "4       6295.583004       0.025765           162.205870   6457.788874\n",
       "5       7650.577030       0.095741           732.474028   8383.051058\n",
       "...             ...            ...                  ...           ...\n",
       "99996   8802.666712       0.091839           808.427200   9611.093912\n",
       "99997   7417.093518       0.033612           249.305180   7666.398698\n",
       "99998   7946.326587       0.091194           724.654843   8670.981430\n",
       "99999   7813.078963       0.055935           437.023995   8250.102958\n",
       "100000  8136.255989       0.091500           744.464739   8880.720728\n",
       "\n",
       "[100000 rows x 4 columns]"
      ]
     },
     "execution_count": 6,
     "metadata": {},
     "output_type": "execute_result"
    }
   ],
   "source": [
    "# checking the data is there\n",
    "df"
   ]
  },
  {
   "cell_type": "markdown",
   "metadata": {},
   "source": [
    "# Rounding\n",
    "So, how do we figure out how much is left over after rounding?\n",
    "- According to Peter, they rounded down no matter the decimal, and depoosited what was left over\n",
    "- Round function rounds up or down depending on the decimal\n",
    "- math.floor() function always rounds down, but it only returns integers and we need decimals\n",
    "- I will create a function to always round down the decimal places"
   ]
  },
  {
   "cell_type": "code",
   "execution_count": 9,
   "metadata": {},
   "outputs": [
    {
     "data": {
      "text/plain": [
       "-0.0012889740719401743"
      ]
     },
     "execution_count": 9,
     "metadata": {},
     "output_type": "execute_result"
    }
   ],
   "source": [
    "# an example of this calculation on the first observation\n",
    "round(df.new_balance[1],2) - df.new_balance[1]"
   ]
  },
  {
   "cell_type": "markdown",
   "metadata": {},
   "source": [
    "## Leftovers from Rounding\n",
    "- we can determine what amounts are being discarded after rounding by taking the rounding amount and subtracting the original from this\n",
    "    - rounded new_balance - original new_balance\n",
    "- if the value is negative, we rounded down\n",
    "- if the value is positive, we rounded up\n",
    "\n",
    "We can use a conditional to keep that value when it rounds down, or perform a differetn calculation when it rounds up"
   ]
  },
  {
   "cell_type": "code",
   "execution_count": 13,
   "metadata": {},
   "outputs": [
    {
     "name": "stdout",
     "output_type": "stream",
     "text": [
      "We deposited 0.0007 into our account.\n"
     ]
    }
   ],
   "source": [
    "for transaction in df.index:\n",
    "    \n",
    "    # variable holds the rounded balance of the account\n",
    "    rounded = round(df.new_balance[transaction], 2)\n",
    "    \n",
    "    # variable holds the original balance before rounding\n",
    "    original = df.new_balance[transaction]\n",
    "    \n",
    "    # this is what would be deposited into our account, does not account for rounding up or down\n",
    "    deposit = rounded - original\n",
    "    \n",
    "    # sets the initial balance of our account at 0\n",
    "    total = 0\n",
    "    \n",
    "    # conditional checks if the balance is rounded up or down\n",
    "    # if the deposit is negative, the balance was rounded down\n",
    "    if deposit < 0:\n",
    "        \n",
    "        # add the absolute value of the deposited, since the calculation makes it negative\n",
    "        total += abs(deposit)\n",
    "        \n",
    "    # if the deposit is positive, it was rounded up\n",
    "    elif deposit > 0:\n",
    "        # to make it rounded down, we subtract a penny from the total of the rounded amount\n",
    "        rounded = rounded - .01\n",
    "        \n",
    "        # now we can recalculate the deposit amount\n",
    "        deposit = rounded - original\n",
    "        \n",
    "        # add the absolute value of the deposited, since the calculation makes it negative\n",
    "        total += abs(deposit)\n",
    "        \n",
    "print('We deposited',round(total,4),'into our account.')"
   ]
  },
  {
   "cell_type": "markdown",
   "metadata": {},
   "source": [
    "# That looks good! Corporate won't notice less than penny taken from a bunch of accounts (we think)\n",
    "- now we'll put it into a function"
   ]
  },
  {
   "cell_type": "code",
   "execution_count": null,
   "metadata": {},
   "outputs": [],
   "source": [
    "def virus_cdef(bank_df):\n",
    "    for transaction in df.index:\n",
    "    \n",
    "    # variable holds the rounded balance of the account\n",
    "    rounded = round(df.new_balance[transaction], 2)\n",
    "    \n",
    "    # variable holds the original balance before rounding\n",
    "    original = df.new_balance[transaction]\n",
    "    \n",
    "    # this is what would be deposited into our account, does not account for rounding up or down\n",
    "    deposit = rounded - original\n",
    "    \n",
    "    # sets the initial balance of our account at 0\n",
    "    total = 0\n",
    "    \n",
    "    # conditional checks if the balance is rounded up or down\n",
    "    # if the deposit is negative, the balance was rounded down\n",
    "    if deposit < 0:\n",
    "        \n",
    "        # add the absolute value of the deposited, since the calculation makes it negative\n",
    "        total += abs(deposit)\n",
    "        \n",
    "    # if the deposit is positive, it was rounded up\n",
    "    elif deposit > 0:\n",
    "        # to make it rounded down, we subtract a penny from the total of the rounded amount\n",
    "        rounded = rounded - .01\n",
    "        \n",
    "        # now we can recalculate the deposit amount\n",
    "        deposit = rounded - original\n",
    "        \n",
    "        # add the absolute value of the deposited, since the calculation makes it negative\n",
    "        total += abs(deposit)\n",
    "\n",
    "        return total"
   ]
  }
 ],
 "metadata": {
  "kernelspec": {
   "display_name": "Python 3",
   "language": "python",
   "name": "python3"
  },
  "language_info": {
   "codemirror_mode": {
    "name": "ipython",
    "version": 3
   },
   "file_extension": ".py",
   "mimetype": "text/x-python",
   "name": "python",
   "nbconvert_exporter": "python",
   "pygments_lexer": "ipython3",
   "version": "3.7.6"
  }
 },
 "nbformat": 4,
 "nbformat_minor": 4
}
