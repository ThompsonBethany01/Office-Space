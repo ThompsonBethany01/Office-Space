{
 "cells": [
  {
   "cell_type": "markdown",
   "metadata": {},
   "source": [
    "# Creating the function\n",
    "- Before I can create the \"virus\" from the movie, I need to create the version without bugs\n",
    "- This notebook will walkthrough the process of my idea of what the function would be (with my admitably limited domain knowledge)"
   ]
  },
  {
   "cell_type": "code",
   "execution_count": 1,
   "metadata": {},
   "outputs": [],
   "source": [
    "# import the function that creates the fank bank data\n",
    "import Data"
   ]
  },
  {
   "cell_type": "code",
   "execution_count": 2,
   "metadata": {},
   "outputs": [],
   "source": [
    "# using the function and assigning it to a variable\n",
    "df = Data.create_data()"
   ]
  },
  {
   "cell_type": "code",
   "execution_count": 3,
   "metadata": {},
   "outputs": [
    {
     "data": {
      "text/html": [
       "<div>\n",
       "<style scoped>\n",
       "    .dataframe tbody tr th:only-of-type {\n",
       "        vertical-align: middle;\n",
       "    }\n",
       "\n",
       "    .dataframe tbody tr th {\n",
       "        vertical-align: top;\n",
       "    }\n",
       "\n",
       "    .dataframe thead th {\n",
       "        text-align: right;\n",
       "    }\n",
       "</style>\n",
       "<table border=\"1\" class=\"dataframe\">\n",
       "  <thead>\n",
       "    <tr style=\"text-align: right;\">\n",
       "      <th></th>\n",
       "      <th>balance</th>\n",
       "      <th>interest_rate</th>\n",
       "      <th>calculated_interest</th>\n",
       "      <th>new_balance</th>\n",
       "    </tr>\n",
       "  </thead>\n",
       "  <tbody>\n",
       "    <tr>\n",
       "      <th>1</th>\n",
       "      <td>7339.505335</td>\n",
       "      <td>0.041790</td>\n",
       "      <td>306.721518</td>\n",
       "      <td>7646.226853</td>\n",
       "    </tr>\n",
       "    <tr>\n",
       "      <th>2</th>\n",
       "      <td>5840.807995</td>\n",
       "      <td>0.094163</td>\n",
       "      <td>549.987097</td>\n",
       "      <td>6390.795091</td>\n",
       "    </tr>\n",
       "    <tr>\n",
       "      <th>3</th>\n",
       "      <td>7385.953507</td>\n",
       "      <td>0.080463</td>\n",
       "      <td>594.294242</td>\n",
       "      <td>7980.247749</td>\n",
       "    </tr>\n",
       "    <tr>\n",
       "      <th>4</th>\n",
       "      <td>5028.948453</td>\n",
       "      <td>0.078919</td>\n",
       "      <td>396.877727</td>\n",
       "      <td>5425.826180</td>\n",
       "    </tr>\n",
       "    <tr>\n",
       "      <th>5</th>\n",
       "      <td>8995.849905</td>\n",
       "      <td>0.095512</td>\n",
       "      <td>859.212922</td>\n",
       "      <td>9855.062827</td>\n",
       "    </tr>\n",
       "    <tr>\n",
       "      <th>...</th>\n",
       "      <td>...</td>\n",
       "      <td>...</td>\n",
       "      <td>...</td>\n",
       "      <td>...</td>\n",
       "    </tr>\n",
       "    <tr>\n",
       "      <th>996</th>\n",
       "      <td>7550.713287</td>\n",
       "      <td>0.094582</td>\n",
       "      <td>714.165087</td>\n",
       "      <td>8264.878374</td>\n",
       "    </tr>\n",
       "    <tr>\n",
       "      <th>997</th>\n",
       "      <td>9581.023008</td>\n",
       "      <td>0.032049</td>\n",
       "      <td>307.062403</td>\n",
       "      <td>9888.085410</td>\n",
       "    </tr>\n",
       "    <tr>\n",
       "      <th>998</th>\n",
       "      <td>8731.237948</td>\n",
       "      <td>0.085887</td>\n",
       "      <td>749.899809</td>\n",
       "      <td>9481.137757</td>\n",
       "    </tr>\n",
       "    <tr>\n",
       "      <th>999</th>\n",
       "      <td>5319.248110</td>\n",
       "      <td>0.031541</td>\n",
       "      <td>167.776794</td>\n",
       "      <td>5487.024904</td>\n",
       "    </tr>\n",
       "    <tr>\n",
       "      <th>1000</th>\n",
       "      <td>8142.147196</td>\n",
       "      <td>0.034238</td>\n",
       "      <td>278.770283</td>\n",
       "      <td>8420.917479</td>\n",
       "    </tr>\n",
       "  </tbody>\n",
       "</table>\n",
       "<p>1000 rows × 4 columns</p>\n",
       "</div>"
      ],
      "text/plain": [
       "          balance  interest_rate  calculated_interest  new_balance\n",
       "1     7339.505335       0.041790           306.721518  7646.226853\n",
       "2     5840.807995       0.094163           549.987097  6390.795091\n",
       "3     7385.953507       0.080463           594.294242  7980.247749\n",
       "4     5028.948453       0.078919           396.877727  5425.826180\n",
       "5     8995.849905       0.095512           859.212922  9855.062827\n",
       "...           ...            ...                  ...          ...\n",
       "996   7550.713287       0.094582           714.165087  8264.878374\n",
       "997   9581.023008       0.032049           307.062403  9888.085410\n",
       "998   8731.237948       0.085887           749.899809  9481.137757\n",
       "999   5319.248110       0.031541           167.776794  5487.024904\n",
       "1000  8142.147196       0.034238           278.770283  8420.917479\n",
       "\n",
       "[1000 rows x 4 columns]"
      ]
     },
     "execution_count": 3,
     "metadata": {},
     "output_type": "execute_result"
    }
   ],
   "source": [
    "# checking the data is there\n",
    "df"
   ]
  },
  {
   "cell_type": "markdown",
   "metadata": {},
   "source": [
    "# Rounding\n",
    "So, how do we figure out how much is left over after rounding?\n",
    "- Determine the amount when rounded and subtract the rounded from the original\n",
    "- rounded_balance - original balance\n",
    "- when positive, the total was rounded down\n",
    "- when negative, the total was rounded up"
   ]
  },
  {
   "cell_type": "code",
   "execution_count": 6,
   "metadata": {},
   "outputs": [
    {
     "data": {
      "text/plain": [
       "0.0031473192439079867"
      ]
     },
     "execution_count": 6,
     "metadata": {},
     "output_type": "execute_result"
    }
   ],
   "source": [
    "# an example of this calculation on the first observation\n",
    "round(df.new_balance[1],2) - df.new_balance[1]"
   ]
  }
 ],
 "metadata": {
  "kernelspec": {
   "display_name": "Python 3",
   "language": "python",
   "name": "python3"
  },
  "language_info": {
   "codemirror_mode": {
    "name": "ipython",
    "version": 3
   },
   "file_extension": ".py",
   "mimetype": "text/x-python",
   "name": "python",
   "nbconvert_exporter": "python",
   "pygments_lexer": "ipython3",
   "version": "3.7.6"
  }
 },
 "nbformat": 4,
 "nbformat_minor": 4
}
