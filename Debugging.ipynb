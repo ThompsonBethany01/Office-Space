{
 "cells": [
  {
   "cell_type": "markdown",
   "metadata": {},
   "source": [
    "# Fixing the Bug\n",
    "This notebook should help you get started  \n",
    "\n",
    "Good luck!"
   ]
  },
  {
   "cell_type": "markdown",
   "metadata": {},
   "source": [
    "## First, import the modules you've downloaded"
   ]
  },
  {
   "cell_type": "code",
   "execution_count": null,
   "metadata": {},
   "outputs": [],
   "source": [
    "import Data\n",
    "import Floppy_Disk\n",
    "import Bank_Statement\n",
    "\n",
    "import pandas as pd\n",
    "import numpy as np"
   ]
  },
  {
   "cell_type": "markdown",
   "metadata": {},
   "source": [
    "## Test the function out\n",
    "- we should have a balance of a few pennies, maybe even nothing\n",
    "- What do you see?"
   ]
  },
  {
   "cell_type": "code",
   "execution_count": null,
   "metadata": {},
   "outputs": [],
   "source": [
    "Bank_Statement.deposits(100_000)"
   ]
  },
  {
   "cell_type": "markdown",
   "metadata": {},
   "source": [
    "# Here's the function in our floppy disk, can you figure out what's going wrong?\n",
    "Break it into pieces if you need to, we still have our copy"
   ]
  },
  {
   "cell_type": "code",
   "execution_count": null,
   "metadata": {},
   "outputs": [],
   "source": [
    "def virus_cdef(df):\n",
    "    '''\n",
    "    This function rounds down all interest calculations and returns the total\n",
    "    of what is leftover from all these rounded amounts.\n",
    "    A bug is making it deposit a larger amount than anticipated.\n",
    "    '''\n",
    "    for transaction in df.index:\n",
    "    \n",
    "        # variable holds the rounded balance of the account\n",
    "        rounded = round(df.new_balance[transaction], 1)\n",
    "    \n",
    "        # variable holds the original balance before rounding\n",
    "        original = df.new_balance[transaction]\n",
    "    \n",
    "        # this is what would be deposited into our account, does not account for rounding up or down\n",
    "        deposit = rounded - original\n",
    "    \n",
    "        # sets the initial balance of our account at 0\n",
    "        total = 0\n",
    "    \n",
    "        # conditional checks if the balance is rounded up or down\n",
    "        # if the deposit is negative, the balance was rounded down\n",
    "        if deposit < 0:\n",
    "        \n",
    "            # add the absolute value of the deposited, since the calculation makes it negative\n",
    "            total += abs(deposit)\n",
    "        \n",
    "        # if the deposit is positive, it was rounded up\n",
    "        elif deposit > 0:\n",
    "            # to make it rounded down, we subtract a penny from the total of the rounded amount\n",
    "            rounded = rounded - 1\n",
    "        \n",
    "            # now we can recalculate the deposit amount\n",
    "            deposit = rounded - original\n",
    "        \n",
    "            # add the absolute value of the deposited, since the calculation makes it negative\n",
    "            total += abs(deposit)\n",
    "        \n",
    "    return total"
   ]
  }
 ],
 "metadata": {
  "kernelspec": {
   "display_name": "Python 3",
   "language": "python",
   "name": "python3"
  },
  "language_info": {
   "codemirror_mode": {
    "name": "ipython",
    "version": 3
   },
   "file_extension": ".py",
   "mimetype": "text/x-python",
   "name": "python",
   "nbconvert_exporter": "python",
   "pygments_lexer": "ipython3",
   "version": "3.7.6"
  }
 },
 "nbformat": 4,
 "nbformat_minor": 4
}
